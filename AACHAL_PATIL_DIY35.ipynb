{
 "cells": [
  {
   "cell_type": "code",
   "execution_count": 2,
   "id": "80415587",
   "metadata": {},
   "outputs": [],
   "source": [
    "import pandas as pd\n",
    "import numpy as np\n",
    "import matplotlib.pyplot as plt"
   ]
  },
  {
   "cell_type": "code",
   "execution_count": 3,
   "id": "e27f2a91",
   "metadata": {},
   "outputs": [],
   "source": [
    "# 1 Load the housing_price dataset into DataFrame"
   ]
  },
  {
   "cell_type": "code",
   "execution_count": 4,
   "id": "6d65e54b",
   "metadata": {},
   "outputs": [
    {
     "data": {
      "text/html": [
       "<div>\n",
       "<style scoped>\n",
       "    .dataframe tbody tr th:only-of-type {\n",
       "        vertical-align: middle;\n",
       "    }\n",
       "\n",
       "    .dataframe tbody tr th {\n",
       "        vertical-align: top;\n",
       "    }\n",
       "\n",
       "    .dataframe thead th {\n",
       "        text-align: right;\n",
       "    }\n",
       "</style>\n",
       "<table border=\"1\" class=\"dataframe\">\n",
       "  <thead>\n",
       "    <tr style=\"text-align: right;\">\n",
       "      <th></th>\n",
       "      <th>longitude</th>\n",
       "      <th>latitude</th>\n",
       "      <th>housing_median_age</th>\n",
       "      <th>total_rooms</th>\n",
       "      <th>total_bedrooms</th>\n",
       "      <th>population</th>\n",
       "      <th>households</th>\n",
       "      <th>median_income</th>\n",
       "      <th>median_house_value</th>\n",
       "    </tr>\n",
       "  </thead>\n",
       "  <tbody>\n",
       "    <tr>\n",
       "      <th>0</th>\n",
       "      <td>-114.31</td>\n",
       "      <td>34.19</td>\n",
       "      <td>15</td>\n",
       "      <td>5612</td>\n",
       "      <td>1283</td>\n",
       "      <td>1015</td>\n",
       "      <td>472</td>\n",
       "      <td>1.4936</td>\n",
       "      <td>66900</td>\n",
       "    </tr>\n",
       "    <tr>\n",
       "      <th>1</th>\n",
       "      <td>-114.47</td>\n",
       "      <td>34.40</td>\n",
       "      <td>19</td>\n",
       "      <td>7650</td>\n",
       "      <td>1901</td>\n",
       "      <td>1129</td>\n",
       "      <td>463</td>\n",
       "      <td>1.8200</td>\n",
       "      <td>80100</td>\n",
       "    </tr>\n",
       "    <tr>\n",
       "      <th>2</th>\n",
       "      <td>-114.56</td>\n",
       "      <td>33.69</td>\n",
       "      <td>17</td>\n",
       "      <td>720</td>\n",
       "      <td>174</td>\n",
       "      <td>333</td>\n",
       "      <td>117</td>\n",
       "      <td>1.6509</td>\n",
       "      <td>85700</td>\n",
       "    </tr>\n",
       "    <tr>\n",
       "      <th>3</th>\n",
       "      <td>-114.57</td>\n",
       "      <td>33.64</td>\n",
       "      <td>14</td>\n",
       "      <td>1501</td>\n",
       "      <td>337</td>\n",
       "      <td>515</td>\n",
       "      <td>226</td>\n",
       "      <td>3.1917</td>\n",
       "      <td>73400</td>\n",
       "    </tr>\n",
       "    <tr>\n",
       "      <th>4</th>\n",
       "      <td>-114.57</td>\n",
       "      <td>33.57</td>\n",
       "      <td>20</td>\n",
       "      <td>1454</td>\n",
       "      <td>326</td>\n",
       "      <td>624</td>\n",
       "      <td>262</td>\n",
       "      <td>1.9250</td>\n",
       "      <td>65500</td>\n",
       "    </tr>\n",
       "    <tr>\n",
       "      <th>...</th>\n",
       "      <td>...</td>\n",
       "      <td>...</td>\n",
       "      <td>...</td>\n",
       "      <td>...</td>\n",
       "      <td>...</td>\n",
       "      <td>...</td>\n",
       "      <td>...</td>\n",
       "      <td>...</td>\n",
       "      <td>...</td>\n",
       "    </tr>\n",
       "    <tr>\n",
       "      <th>16995</th>\n",
       "      <td>-124.26</td>\n",
       "      <td>40.58</td>\n",
       "      <td>52</td>\n",
       "      <td>2217</td>\n",
       "      <td>394</td>\n",
       "      <td>907</td>\n",
       "      <td>369</td>\n",
       "      <td>2.3571</td>\n",
       "      <td>111400</td>\n",
       "    </tr>\n",
       "    <tr>\n",
       "      <th>16996</th>\n",
       "      <td>-124.27</td>\n",
       "      <td>40.69</td>\n",
       "      <td>36</td>\n",
       "      <td>2349</td>\n",
       "      <td>528</td>\n",
       "      <td>1194</td>\n",
       "      <td>465</td>\n",
       "      <td>2.5179</td>\n",
       "      <td>79000</td>\n",
       "    </tr>\n",
       "    <tr>\n",
       "      <th>16997</th>\n",
       "      <td>-124.30</td>\n",
       "      <td>41.84</td>\n",
       "      <td>17</td>\n",
       "      <td>2677</td>\n",
       "      <td>531</td>\n",
       "      <td>1244</td>\n",
       "      <td>456</td>\n",
       "      <td>3.0313</td>\n",
       "      <td>103600</td>\n",
       "    </tr>\n",
       "    <tr>\n",
       "      <th>16998</th>\n",
       "      <td>-124.30</td>\n",
       "      <td>41.80</td>\n",
       "      <td>19</td>\n",
       "      <td>2672</td>\n",
       "      <td>552</td>\n",
       "      <td>1298</td>\n",
       "      <td>478</td>\n",
       "      <td>1.9797</td>\n",
       "      <td>85800</td>\n",
       "    </tr>\n",
       "    <tr>\n",
       "      <th>16999</th>\n",
       "      <td>-124.35</td>\n",
       "      <td>40.54</td>\n",
       "      <td>52</td>\n",
       "      <td>1820</td>\n",
       "      <td>300</td>\n",
       "      <td>806</td>\n",
       "      <td>270</td>\n",
       "      <td>3.0147</td>\n",
       "      <td>94600</td>\n",
       "    </tr>\n",
       "  </tbody>\n",
       "</table>\n",
       "<p>17000 rows × 9 columns</p>\n",
       "</div>"
      ],
      "text/plain": [
       "       longitude  latitude  housing_median_age  total_rooms  total_bedrooms  \\\n",
       "0        -114.31     34.19                  15         5612            1283   \n",
       "1        -114.47     34.40                  19         7650            1901   \n",
       "2        -114.56     33.69                  17          720             174   \n",
       "3        -114.57     33.64                  14         1501             337   \n",
       "4        -114.57     33.57                  20         1454             326   \n",
       "...          ...       ...                 ...          ...             ...   \n",
       "16995    -124.26     40.58                  52         2217             394   \n",
       "16996    -124.27     40.69                  36         2349             528   \n",
       "16997    -124.30     41.84                  17         2677             531   \n",
       "16998    -124.30     41.80                  19         2672             552   \n",
       "16999    -124.35     40.54                  52         1820             300   \n",
       "\n",
       "       population  households  median_income  median_house_value  \n",
       "0            1015         472         1.4936               66900  \n",
       "1            1129         463         1.8200               80100  \n",
       "2             333         117         1.6509               85700  \n",
       "3             515         226         3.1917               73400  \n",
       "4             624         262         1.9250               65500  \n",
       "...           ...         ...            ...                 ...  \n",
       "16995         907         369         2.3571              111400  \n",
       "16996        1194         465         2.5179               79000  \n",
       "16997        1244         456         3.0313              103600  \n",
       "16998        1298         478         1.9797               85800  \n",
       "16999         806         270         3.0147               94600  \n",
       "\n",
       "[17000 rows x 9 columns]"
      ]
     },
     "execution_count": 4,
     "metadata": {},
     "output_type": "execute_result"
    }
   ],
   "source": [
    "df = pd.read_csv('housing_price.csv')\n",
    "df"
   ]
  },
  {
   "cell_type": "code",
   "execution_count": 5,
   "id": "d9ff9fe9",
   "metadata": {},
   "outputs": [
    {
     "data": {
      "text/html": [
       "<div>\n",
       "<style scoped>\n",
       "    .dataframe tbody tr th:only-of-type {\n",
       "        vertical-align: middle;\n",
       "    }\n",
       "\n",
       "    .dataframe tbody tr th {\n",
       "        vertical-align: top;\n",
       "    }\n",
       "\n",
       "    .dataframe thead th {\n",
       "        text-align: right;\n",
       "    }\n",
       "</style>\n",
       "<table border=\"1\" class=\"dataframe\">\n",
       "  <thead>\n",
       "    <tr style=\"text-align: right;\">\n",
       "      <th></th>\n",
       "      <th>longitude</th>\n",
       "      <th>latitude</th>\n",
       "      <th>housing_median_age</th>\n",
       "      <th>total_rooms</th>\n",
       "      <th>total_bedrooms</th>\n",
       "      <th>population</th>\n",
       "      <th>households</th>\n",
       "      <th>median_income</th>\n",
       "      <th>median_house_value</th>\n",
       "    </tr>\n",
       "  </thead>\n",
       "  <tbody>\n",
       "    <tr>\n",
       "      <th>16995</th>\n",
       "      <td>-124.26</td>\n",
       "      <td>40.58</td>\n",
       "      <td>52</td>\n",
       "      <td>2217</td>\n",
       "      <td>394</td>\n",
       "      <td>907</td>\n",
       "      <td>369</td>\n",
       "      <td>2.3571</td>\n",
       "      <td>111400</td>\n",
       "    </tr>\n",
       "    <tr>\n",
       "      <th>16996</th>\n",
       "      <td>-124.27</td>\n",
       "      <td>40.69</td>\n",
       "      <td>36</td>\n",
       "      <td>2349</td>\n",
       "      <td>528</td>\n",
       "      <td>1194</td>\n",
       "      <td>465</td>\n",
       "      <td>2.5179</td>\n",
       "      <td>79000</td>\n",
       "    </tr>\n",
       "    <tr>\n",
       "      <th>16997</th>\n",
       "      <td>-124.30</td>\n",
       "      <td>41.84</td>\n",
       "      <td>17</td>\n",
       "      <td>2677</td>\n",
       "      <td>531</td>\n",
       "      <td>1244</td>\n",
       "      <td>456</td>\n",
       "      <td>3.0313</td>\n",
       "      <td>103600</td>\n",
       "    </tr>\n",
       "    <tr>\n",
       "      <th>16998</th>\n",
       "      <td>-124.30</td>\n",
       "      <td>41.80</td>\n",
       "      <td>19</td>\n",
       "      <td>2672</td>\n",
       "      <td>552</td>\n",
       "      <td>1298</td>\n",
       "      <td>478</td>\n",
       "      <td>1.9797</td>\n",
       "      <td>85800</td>\n",
       "    </tr>\n",
       "    <tr>\n",
       "      <th>16999</th>\n",
       "      <td>-124.35</td>\n",
       "      <td>40.54</td>\n",
       "      <td>52</td>\n",
       "      <td>1820</td>\n",
       "      <td>300</td>\n",
       "      <td>806</td>\n",
       "      <td>270</td>\n",
       "      <td>3.0147</td>\n",
       "      <td>94600</td>\n",
       "    </tr>\n",
       "  </tbody>\n",
       "</table>\n",
       "</div>"
      ],
      "text/plain": [
       "       longitude  latitude  housing_median_age  total_rooms  total_bedrooms  \\\n",
       "16995    -124.26     40.58                  52         2217             394   \n",
       "16996    -124.27     40.69                  36         2349             528   \n",
       "16997    -124.30     41.84                  17         2677             531   \n",
       "16998    -124.30     41.80                  19         2672             552   \n",
       "16999    -124.35     40.54                  52         1820             300   \n",
       "\n",
       "       population  households  median_income  median_house_value  \n",
       "16995         907         369         2.3571              111400  \n",
       "16996        1194         465         2.5179               79000  \n",
       "16997        1244         456         3.0313              103600  \n",
       "16998        1298         478         1.9797               85800  \n",
       "16999         806         270         3.0147               94600  "
      ]
     },
     "execution_count": 5,
     "metadata": {},
     "output_type": "execute_result"
    }
   ],
   "source": [
    "df.tail()"
   ]
  },
  {
   "cell_type": "code",
   "execution_count": 6,
   "id": "159301c5",
   "metadata": {},
   "outputs": [
    {
     "data": {
      "text/plain": [
       "longitude             0\n",
       "latitude              0\n",
       "housing_median_age    0\n",
       "total_rooms           0\n",
       "total_bedrooms        0\n",
       "population            0\n",
       "households            0\n",
       "median_income         0\n",
       "median_house_value    0\n",
       "dtype: int64"
      ]
     },
     "execution_count": 6,
     "metadata": {},
     "output_type": "execute_result"
    }
   ],
   "source": [
    "# 2. Find the null value and drop then, If any\n",
    "df.isnull().sum()"
   ]
  },
  {
   "cell_type": "code",
   "execution_count": 7,
   "id": "96af6183",
   "metadata": {},
   "outputs": [],
   "source": [
    "x= df.drop(\"median_house_value\", axis='columns')\n",
    "y= df['median_house_value']"
   ]
  },
  {
   "cell_type": "code",
   "execution_count": 8,
   "id": "2bdc3583",
   "metadata": {},
   "outputs": [
    {
     "name": "stdout",
     "output_type": "stream",
     "text": [
      "independent variable:        longitude  latitude  housing_median_age  total_rooms  total_bedrooms  \\\n",
      "0        -114.31     34.19                  15         5612            1283   \n",
      "1        -114.47     34.40                  19         7650            1901   \n",
      "2        -114.56     33.69                  17          720             174   \n",
      "3        -114.57     33.64                  14         1501             337   \n",
      "4        -114.57     33.57                  20         1454             326   \n",
      "...          ...       ...                 ...          ...             ...   \n",
      "16995    -124.26     40.58                  52         2217             394   \n",
      "16996    -124.27     40.69                  36         2349             528   \n",
      "16997    -124.30     41.84                  17         2677             531   \n",
      "16998    -124.30     41.80                  19         2672             552   \n",
      "16999    -124.35     40.54                  52         1820             300   \n",
      "\n",
      "       population  households  median_income  \n",
      "0            1015         472         1.4936  \n",
      "1            1129         463         1.8200  \n",
      "2             333         117         1.6509  \n",
      "3             515         226         3.1917  \n",
      "4             624         262         1.9250  \n",
      "...           ...         ...            ...  \n",
      "16995         907         369         2.3571  \n",
      "16996        1194         465         2.5179  \n",
      "16997        1244         456         3.0313  \n",
      "16998        1298         478         1.9797  \n",
      "16999         806         270         3.0147  \n",
      "\n",
      "[17000 rows x 8 columns]\n",
      "dependent variable: 0         66900\n",
      "1         80100\n",
      "2         85700\n",
      "3         73400\n",
      "4         65500\n",
      "          ...  \n",
      "16995    111400\n",
      "16996     79000\n",
      "16997    103600\n",
      "16998     85800\n",
      "16999     94600\n",
      "Name: median_house_value, Length: 17000, dtype: int64\n"
     ]
    }
   ],
   "source": [
    "print(\"independent variable:\",x)\n",
    "print(\"dependent variable:\",y)"
   ]
  },
  {
   "cell_type": "code",
   "execution_count": 9,
   "id": "eba4dbcd",
   "metadata": {},
   "outputs": [],
   "source": [
    "# 3. Split data into two DataFrames x and y based on dependent andindependent variables\n",
    "from sklearn.model_selection import train_test_split\n",
    "x_train,x_test,y_train,y_test = train_test_split(x,y,random_state=10,test_size=0.20,)"
   ]
  },
  {
   "cell_type": "code",
   "execution_count": 10,
   "id": "df901821",
   "metadata": {},
   "outputs": [
    {
     "data": {
      "text/plain": [
       "((13600, 8), (3400, 8), (13600,), (3400,))"
      ]
     },
     "execution_count": 10,
     "metadata": {},
     "output_type": "execute_result"
    }
   ],
   "source": [
    "# 4. Split x and y into train and test data set based on test size as 0.2 and random_state as 10\n",
    "x_train.shape,x_test.shape,y_train.shape,y_test.shape"
   ]
  },
  {
   "cell_type": "code",
   "execution_count": 11,
   "id": "9f28599a",
   "metadata": {},
   "outputs": [],
   "source": [
    "from sklearn.linear_model import LinearRegression"
   ]
  },
  {
   "cell_type": "code",
   "execution_count": 12,
   "id": "f18e9e25",
   "metadata": {},
   "outputs": [],
   "source": [
    "reg = LinearRegression().fit(x_train,y_train)"
   ]
  },
  {
   "cell_type": "code",
   "execution_count": 13,
   "id": "66ec2d22",
   "metadata": {},
   "outputs": [
    {
     "name": "stdout",
     "output_type": "stream",
     "text": [
      "r2 value: 0.6394488739765447\n",
      "Cofficient [-4.34225673e+04 -4.34584915e+04  1.15417922e+03 -8.34683693e+00\n",
      "  1.14234465e+02 -3.87425498e+01  5.04252279e+01  4.02554220e+04]\n",
      "Intercept -3635200.010897333\n"
     ]
    }
   ],
   "source": [
    "# 6. Print R2 vallue,coefficient and intercept\n",
    "print(\"r2 value:\",reg.score(x_train,y_train))\n",
    "print(\"Cofficient\",reg.coef_)\n",
    "print(\"Intercept\",reg.intercept_)"
   ]
  },
  {
   "cell_type": "code",
   "execution_count": 14,
   "id": "063f211d",
   "metadata": {},
   "outputs": [],
   "source": [
    "# 7. Compare actual and predicted values."
   ]
  },
  {
   "cell_type": "code",
   "execution_count": 15,
   "id": "6afd2642",
   "metadata": {},
   "outputs": [],
   "source": [
    "y_pred = reg.predict(x_test)"
   ]
  },
  {
   "cell_type": "code",
   "execution_count": 16,
   "id": "b27ec397",
   "metadata": {},
   "outputs": [
    {
     "data": {
      "text/plain": [
       "array([ -8475.67520212, 490876.39423318, 112662.10798953, ...,\n",
       "       156916.65206654, 283319.26612844, 324366.4143578 ])"
      ]
     },
     "execution_count": 16,
     "metadata": {},
     "output_type": "execute_result"
    }
   ],
   "source": [
    "y_pred"
   ]
  },
  {
   "cell_type": "code",
   "execution_count": 17,
   "id": "abf2cc03",
   "metadata": {},
   "outputs": [],
   "source": [
    "df1 = pd.DataFrame({'Actual':y_test,'Predict':y_pred})"
   ]
  },
  {
   "cell_type": "code",
   "execution_count": 18,
   "id": "0b85b0c0",
   "metadata": {},
   "outputs": [
    {
     "data": {
      "text/html": [
       "<div>\n",
       "<style scoped>\n",
       "    .dataframe tbody tr th:only-of-type {\n",
       "        vertical-align: middle;\n",
       "    }\n",
       "\n",
       "    .dataframe tbody tr th {\n",
       "        vertical-align: top;\n",
       "    }\n",
       "\n",
       "    .dataframe thead th {\n",
       "        text-align: right;\n",
       "    }\n",
       "</style>\n",
       "<table border=\"1\" class=\"dataframe\">\n",
       "  <thead>\n",
       "    <tr style=\"text-align: right;\">\n",
       "      <th></th>\n",
       "      <th>Actual</th>\n",
       "      <th>Predict</th>\n",
       "    </tr>\n",
       "  </thead>\n",
       "  <tbody>\n",
       "    <tr>\n",
       "      <th>10270</th>\n",
       "      <td>96100</td>\n",
       "      <td>-8475.675202</td>\n",
       "    </tr>\n",
       "    <tr>\n",
       "      <th>1528</th>\n",
       "      <td>500001</td>\n",
       "      <td>490876.394233</td>\n",
       "    </tr>\n",
       "    <tr>\n",
       "      <th>7778</th>\n",
       "      <td>177200</td>\n",
       "      <td>112662.107990</td>\n",
       "    </tr>\n",
       "    <tr>\n",
       "      <th>10724</th>\n",
       "      <td>55000</td>\n",
       "      <td>218093.753334</td>\n",
       "    </tr>\n",
       "    <tr>\n",
       "      <th>3481</th>\n",
       "      <td>220800</td>\n",
       "      <td>207600.925885</td>\n",
       "    </tr>\n",
       "    <tr>\n",
       "      <th>...</th>\n",
       "      <td>...</td>\n",
       "      <td>...</td>\n",
       "    </tr>\n",
       "    <tr>\n",
       "      <th>3157</th>\n",
       "      <td>250400</td>\n",
       "      <td>207638.918918</td>\n",
       "    </tr>\n",
       "    <tr>\n",
       "      <th>5505</th>\n",
       "      <td>232500</td>\n",
       "      <td>221868.385353</td>\n",
       "    </tr>\n",
       "    <tr>\n",
       "      <th>7639</th>\n",
       "      <td>196400</td>\n",
       "      <td>156916.652067</td>\n",
       "    </tr>\n",
       "    <tr>\n",
       "      <th>5576</th>\n",
       "      <td>219200</td>\n",
       "      <td>283319.266128</td>\n",
       "    </tr>\n",
       "    <tr>\n",
       "      <th>16336</th>\n",
       "      <td>487800</td>\n",
       "      <td>324366.414358</td>\n",
       "    </tr>\n",
       "  </tbody>\n",
       "</table>\n",
       "<p>3400 rows × 2 columns</p>\n",
       "</div>"
      ],
      "text/plain": [
       "       Actual        Predict\n",
       "10270   96100   -8475.675202\n",
       "1528   500001  490876.394233\n",
       "7778   177200  112662.107990\n",
       "10724   55000  218093.753334\n",
       "3481   220800  207600.925885\n",
       "...       ...            ...\n",
       "3157   250400  207638.918918\n",
       "5505   232500  221868.385353\n",
       "7639   196400  156916.652067\n",
       "5576   219200  283319.266128\n",
       "16336  487800  324366.414358\n",
       "\n",
       "[3400 rows x 2 columns]"
      ]
     },
     "execution_count": 18,
     "metadata": {},
     "output_type": "execute_result"
    }
   ],
   "source": [
    "df1"
   ]
  },
  {
   "cell_type": "code",
   "execution_count": 19,
   "id": "56934dcf",
   "metadata": {},
   "outputs": [
    {
     "name": "stdout",
     "output_type": "stream",
     "text": [
      "Requirement already satisfied: statsmodels in c:\\users\\admin\\anaconda3\\lib\\site-packages (0.13.5)\n",
      "Collecting statsmodels\n",
      "  Downloading statsmodels-0.14.0-cp39-cp39-win_amd64.whl (9.4 MB)\n",
      "Installing collected packages: statsmodels\n",
      "  Attempting uninstall: statsmodels\n",
      "    Found existing installation: statsmodels 0.13.5\n",
      "    Uninstalling statsmodels-0.13.5:\n",
      "      Successfully uninstalled statsmodels-0.13.5\n",
      "Successfully installed statsmodels-0.14.0\n"
     ]
    }
   ],
   "source": [
    "# 8. Print the final summary\n",
    "# !pip install statsmodels\n",
    "!pip install --upgrade --no-deps statsmodels\n"
   ]
  },
  {
   "cell_type": "code",
   "execution_count": 21,
   "id": "fb39e754",
   "metadata": {},
   "outputs": [
    {
     "name": "stdout",
     "output_type": "stream",
     "text": [
      "Requirement already satisfied: statsmodels in c:\\users\\admin\\anaconda3\\lib\\site-packages (0.14.0)\n",
      "Requirement already satisfied: scipy!=1.9.2,>=1.4 in c:\\users\\admin\\anaconda3\\lib\\site-packages (from statsmodels) (1.7.3)\n",
      "Requirement already satisfied: pandas>=1.0 in c:\\users\\admin\\anaconda3\\lib\\site-packages (from statsmodels) (1.4.2)\n",
      "Requirement already satisfied: patsy>=0.5.2 in c:\\users\\admin\\anaconda3\\lib\\site-packages (from statsmodels) (0.5.2)\n",
      "Requirement already satisfied: packaging>=21.3 in c:\\users\\admin\\anaconda3\\lib\\site-packages (from statsmodels) (21.3)\n",
      "Requirement already satisfied: numpy>=1.18 in c:\\users\\admin\\anaconda3\\lib\\site-packages (from statsmodels) (1.21.5)\n",
      "Requirement already satisfied: pyparsing!=3.0.5,>=2.0.2 in c:\\users\\admin\\anaconda3\\lib\\site-packages (from packaging>=21.3->statsmodels) (3.0.4)\n",
      "Requirement already satisfied: python-dateutil>=2.8.1 in c:\\users\\admin\\anaconda3\\lib\\site-packages (from pandas>=1.0->statsmodels) (2.8.2)\n",
      "Requirement already satisfied: pytz>=2020.1 in c:\\users\\admin\\anaconda3\\lib\\site-packages (from pandas>=1.0->statsmodels) (2021.3)\n",
      "Requirement already satisfied: six in c:\\users\\admin\\anaconda3\\lib\\site-packages (from patsy>=0.5.2->statsmodels) (1.16.0)\n"
     ]
    }
   ],
   "source": [
    "!pip3 install statsmodels"
   ]
  },
  {
   "cell_type": "code",
   "execution_count": 26,
   "id": "0ec33ea7",
   "metadata": {},
   "outputs": [],
   "source": [
    "# from sklearn.linear_model import ElasticNet\n",
    "# import statsmodels.api as sm\n",
    "# X2 = sm.add_constant(x)\n",
    "# est = sm.OLS(y, X2)\n",
    "# est2 = est.fit()\n",
    "# print(est2.summary())"
   ]
  }
 ],
 "metadata": {
  "kernelspec": {
   "display_name": "Python 3 (ipykernel)",
   "language": "python",
   "name": "python3"
  },
  "language_info": {
   "codemirror_mode": {
    "name": "ipython",
    "version": 3
   },
   "file_extension": ".py",
   "mimetype": "text/x-python",
   "name": "python",
   "nbconvert_exporter": "python",
   "pygments_lexer": "ipython3",
   "version": "3.10.4"
  }
 },
 "nbformat": 4,
 "nbformat_minor": 5
}
